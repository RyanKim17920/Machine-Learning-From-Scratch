{
  "nbformat": 4,
  "nbformat_minor": 0,
  "metadata": {
    "colab": {
      "provenance": []
    },
    "kernelspec": {
      "name": "python3",
      "display_name": "Python 3"
    },
    "language_info": {
      "name": "python"
    }
  },
  "cells": [
    {
      "cell_type": "code",
      "source": [
        "import numpy as np\n",
        "import matplotlib.pyplot as plt"
      ],
      "metadata": {
        "id": "qt_aaD9_6RA7"
      },
      "execution_count": 2,
      "outputs": []
    },
    {
      "cell_type": "code",
      "source": [
        "import random"
      ],
      "metadata": {
        "id": "y3PMvhtAjQEz"
      },
      "execution_count": 3,
      "outputs": []
    },
    {
      "cell_type": "code",
      "source": [
        "inputs = np.array([[1],[2],[3],[4]])\n",
        "outputs = np.array([[2],[4],[6],[8]])"
      ],
      "metadata": {
        "id": "EsnF6kLJ6G6Q"
      },
      "execution_count": 4,
      "outputs": []
    },
    {
      "cell_type": "code",
      "source": [
        "class LinearRegressionNode:\n",
        "    def __init__(self, learning_rate=0.01):\n",
        "        self.weight = np.random.randn()\n",
        "        self.bias = np.random.randn()\n",
        "        self.learning_rate = learning_rate\n",
        "\n",
        "    def forward(self, x):\n",
        "        return self.weight * x + self.bias\n",
        "\n",
        "    def backward(self, x, y):\n",
        "        # Compute gradients\n",
        "        d_weight = np.mean((self.forward(x) - y) * x)\n",
        "        d_bias = np.mean(self.forward(x) - y)\n",
        "\n",
        "        # Update parameters using gradient descent\n",
        "        self.weight -= self.learning_rate * d_weight\n",
        "        self.bias -= self.learning_rate * d_bias\n",
        "\n",
        "    def train(self, x, y, epochs=100):\n",
        "        for epoch in range(epochs):\n",
        "            self.backward(x, y)\n",
        "\n",
        "    def predict(self, x):\n",
        "        return self.forward(x)"
      ],
      "metadata": {
        "id": "tvS3ADxP8i2i"
      },
      "execution_count": 6,
      "outputs": []
    },
    {
      "cell_type": "code",
      "source": [
        "testt = LinearRegressionNode()\n",
        "testt.train(inputs,outputs,15000)"
      ],
      "metadata": {
        "id": "HhVd5eIq8lg3"
      },
      "execution_count": 7,
      "outputs": []
    },
    {
      "cell_type": "code",
      "source": [
        "testt.forward(1)"
      ],
      "metadata": {
        "colab": {
          "base_uri": "https://localhost:8080/"
        },
        "id": "Wx8sCipL8zHe",
        "outputId": "3d69e298-bf20-47f6-d044-96c60e5a32a8"
      },
      "execution_count": 8,
      "outputs": [
        {
          "output_type": "execute_result",
          "data": {
            "text/plain": [
              "2.0000000001901115"
            ]
          },
          "metadata": {},
          "execution_count": 8
        }
      ]
    },
    {
      "cell_type": "code",
      "source": [
        "testt.forward(2)"
      ],
      "metadata": {
        "colab": {
          "base_uri": "https://localhost:8080/"
        },
        "id": "swp-Z4Z-80NM",
        "outputId": "7582d3ea-ad62-414f-f8c7-6875e97c7ab2"
      },
      "execution_count": 9,
      "outputs": [
        {
          "output_type": "execute_result",
          "data": {
            "text/plain": [
              "4.000000000092122"
            ]
          },
          "metadata": {},
          "execution_count": 9
        }
      ]
    },
    {
      "cell_type": "code",
      "source": [
        "testt.forward(inputs)"
      ],
      "metadata": {
        "colab": {
          "base_uri": "https://localhost:8080/"
        },
        "id": "nfKnrSWU_l_1",
        "outputId": "83b78856-6a51-4ac0-b9db-870a7309e6c2"
      },
      "execution_count": 10,
      "outputs": [
        {
          "output_type": "execute_result",
          "data": {
            "text/plain": [
              "array([[2.],\n",
              "       [4.],\n",
              "       [6.],\n",
              "       [8.]])"
            ]
          },
          "metadata": {},
          "execution_count": 10
        }
      ]
    },
    {
      "cell_type": "code",
      "source": [
        "testt.weight"
      ],
      "metadata": {
        "id": "b5_OPZ48_xJi",
        "outputId": "01c5699e-21c0-4cbc-ba84-4ab79864409b",
        "colab": {
          "base_uri": "https://localhost:8080/"
        }
      },
      "execution_count": 13,
      "outputs": [
        {
          "output_type": "execute_result",
          "data": {
            "text/plain": [
              "1.9999999999020108"
            ]
          },
          "metadata": {},
          "execution_count": 13
        }
      ]
    },
    {
      "cell_type": "code",
      "source": [
        "testt.bias"
      ],
      "metadata": {
        "id": "OwIaowg898Ao",
        "colab": {
          "base_uri": "https://localhost:8080/"
        },
        "outputId": "f63c37b4-75b0-4d20-e5d7-2a3e564d7508"
      },
      "execution_count": 14,
      "outputs": [
        {
          "output_type": "execute_result",
          "data": {
            "text/plain": [
              "2.8810046449755485e-10"
            ]
          },
          "metadata": {},
          "execution_count": 14
        }
      ]
    },
    {
      "cell_type": "code",
      "source": [],
      "metadata": {
        "id": "xzp2xNaBshIa"
      },
      "execution_count": null,
      "outputs": []
    }
  ]
}